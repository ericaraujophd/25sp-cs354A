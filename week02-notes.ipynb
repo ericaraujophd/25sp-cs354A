{
 "cells": [
  {
   "cell_type": "raw",
   "metadata": {
    "vscode": {
     "languageId": "raw"
    }
   },
   "source": [
    "---\n",
    "title: \"Week 02: SQL – Intermediate Concepts Summary\"\n",
    "format:\n",
    "  html:\n",
    "    code-fold: false\n",
    "jupyter: python3\n",
    "---"
   ]
  },
  {
   "cell_type": "markdown",
   "metadata": {},
   "source": [
    "## SLOs for Week 02\n",
    "\n",
    "At the end of this unit, students will be able to...\n",
    "\n",
    "1.  Perform data aggregation using GROUP BY and HAVING.\n",
    "2.  Write and execute INNER, LEFT-OUTER, RIGHT, and FULL JOINs.\n",
    "3.  Construct subqueries for complex queries.\n",
    "4.  Implement SQL functions and expressions.\n",
    "5.  Use SQL best practices for readable and efficient queries."
   ]
  },
  {
   "cell_type": "code",
   "execution_count": 1,
   "metadata": {},
   "outputs": [],
   "source": [
    "%%capture\n",
    "%load_ext sql\n",
    "%sql sqlite:///dbs/w02/library.db\n",
    "%config SqlMagic.style = '_DEPRECATED_DEFAULT'"
   ]
  },
  {
   "cell_type": "markdown",
   "metadata": {},
   "source": [
    "## 🧮 1. SQL Aggregation & Grouping (with SQLite Notes)\n",
    "\n",
    "SQL lets you **summarize** data using **aggregate functions**, and **group** it with GROUP BY. This is especially helpful for statistics, reports, and dashboards.\n",
    "\n",
    "### 🎯 **Common Aggregate Functions**\n",
    "\n",
    "| Function  | Description     | Example       |\n",
    "|-----------|-----------------|---------------|\n",
    "| `COUNT()` | Number of rows  | `COUNT(*)`    |\n",
    "| `SUM()`   | Total of values | `SUM(amount)` |\n",
    "| `AVG()`   | Mean average    | `AVG(score)`  |\n",
    "| `MIN()`   | Smallest value  | `MIN(age)`    |\n",
    "| `MAX()`   | Largest value   | `MAX(salary)` |\n",
    "\n",
    "::: callout-note\n",
    "✅ **SQLite supports all these functions.**\n",
    ":::\n",
    "\n"
   ]
  },
  {
   "cell_type": "markdown",
   "metadata": {},
   "source": [
    "### 🧩 Basic Grouping Example\n",
    "\n",
    "**Q:** How many students are in each major?\n",
    "\n",
    "``` sql\n",
    "SELECT major, COUNT(*) AS student_count\n",
    "FROM students\n",
    "GROUP BY major;\n",
    "```\n",
    "\n",
    "::: callout-note\n",
    "✅ SQLite allows this even if you’re selecting columns not in the GROUP BY clause or not inside an aggregate function. It will return one arbitrary value from each group for such columns.\n",
    ":::\n",
    "\n",
    "**Example (SQLite accepts this):**\n",
    "\n",
    "``` sql\n",
    "SELECT major, name\n",
    "FROM students\n",
    "GROUP BY major;\n",
    "```\n",
    "\n",
    "::: callout-note\n",
    "This works in SQLite — it will return one name for each major, but which name is returned is undefined. ❌ PostgreSQL (and other standards-compliant SQL engines) will **reject** this query with an error unless name is also in the GROUP BY or wrapped in an aggregate like MIN(name).\n",
    ":::"
   ]
  },
  {
   "cell_type": "markdown",
   "metadata": {},
   "source": [
    "### 🔍 Filtering Groups with HAVING\n",
    "\n",
    "Use HAVING to filter after grouping.\n",
    "\n",
    "**Q:** Show only majors with more than 10 students:\n",
    "\n",
    "``` sql\n",
    "SELECT major, COUNT(*) AS student_count\n",
    "FROM students\n",
    "GROUP BY major\n",
    "HAVING COUNT(*) > 10;\n",
    "```\n",
    "\n",
    "::: callout-note\n",
    "ℹ️ In SQLite, you can refer to the alias (student_count) in HAVING. In PostgreSQL, you’d need to repeat the expression: HAVING COUNT(\\*) \\> 10.\n",
    ":::\n",
    "\n",
    "### 📊 Combining Aggregates\n",
    "\n",
    "**Q:** Show average GPA per department — only if it’s above 3.5:\n",
    "\n",
    "``` sql\n",
    "SELECT department, AVG(gpa) AS avg_gpa\n",
    "FROM students\n",
    "GROUP BY department\n",
    "HAVING AVG(gpa) > 3.5;\n",
    "```"
   ]
  },
  {
   "cell_type": "markdown",
   "metadata": {},
   "source": [
    "### 🔗 Grouping by Expressions\n",
    "\n",
    "You can group by computed values like substrings or date parts.\n",
    "\n",
    "**Q:** Count students by **admission year** (from text-based dates):\n",
    "\n",
    "``` sql\n",
    "SELECT SUBSTR(admission_date, 1, 4) AS year, COUNT(*) AS num_students\n",
    "FROM students\n",
    "GROUP BY year;\n",
    "```\n",
    "\n",
    "The SUBSTR() function extracts a **substring** from a given string.\n",
    "\n",
    "``` sql\n",
    "SUBSTR(string, start, length)\n",
    "```\n",
    "\n",
    "-   string: the text to extract from\n",
    "-   start: the position to start (1-based index)\n",
    "-   length (optional): how many characters to return\n",
    "\n",
    "``` sql\n",
    "-- Get the first 4 characters of a date\n",
    "SELECT SUBSTR('2024-09-15', 1, 4);  -- Returns '2024'\n",
    "\n",
    "-- Get the first letter of a name\n",
    "SELECT SUBSTR(name, 1, 1) FROM students;\n",
    "```\n",
    "\n",
    "📌 If length is omitted, SQLite returns the rest of the string from start.\n",
    "\n",
    "::: callout-note\n",
    "✅ Works well in SQLite (which stores dates as text: YYYY-MM-DD). ❗ In PostgreSQL, use: EXTRACT(YEAR FROM admission_date).\n",
    ":::"
   ]
  },
  {
   "cell_type": "markdown",
   "metadata": {},
   "source": [
    "### 🧠 Tips for Grouping Queries\n",
    "\n",
    "-   Use GROUP BY with aggregate functions.\n",
    "-   Use HAVING to filter groups (not rows).\n",
    "-   Use WHERE for filtering before grouping.\n",
    "-   Prefer column names or expressions in GROUP BY, not just positions (e.g., avoid GROUP BY 1).\n",
    "-   Be cautious using non-aggregated, non-grouped columns in SQLite — it’s allowed, but not portable or predictable."
   ]
  }
 ],
 "metadata": {
  "kernelspec": {
   "display_name": ".venv",
   "language": "python",
   "name": "python3"
  },
  "language_info": {
   "codemirror_mode": {
    "name": "ipython",
    "version": 3
   },
   "file_extension": ".py",
   "mimetype": "text/x-python",
   "name": "python",
   "nbconvert_exporter": "python",
   "pygments_lexer": "ipython3",
   "version": "3.13.0"
  }
 },
 "nbformat": 4,
 "nbformat_minor": 2
}
