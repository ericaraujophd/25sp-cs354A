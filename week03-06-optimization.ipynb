{
 "cells": [
  {
   "cell_type": "raw",
   "metadata": {
    "vscode": {
     "languageId": "raw"
    }
   },
   "source": [
    "---\n",
    "title: \"Week 03: SLO 06 – Optimize SQL Queries for Better Performance\"\n",
    "author: \"Eric Araujo\"\n",
    "format:\n",
    "  html:\n",
    "    code-fold: false\n",
    "jupyter: python3\n",
    "---"
   ]
  },
  {
   "cell_type": "markdown",
   "metadata": {},
   "source": [
    "## 🎯 Why It Matters\n",
    "\n",
    "Well-optimized SQL queries:\n",
    "\n",
    "* Run faster\n",
    "* Reduce memory and CPU usage\n",
    "* Improve scalability for large datasets\n",
    "\n",
    "Even in SQLite, which is lightweight and file-based, writing efficient queries is essential, especially when working with large tables or complex joins."
   ]
  },
  {
   "cell_type": "markdown",
   "metadata": {},
   "source": [
    "## 🔧 Key Techniques & Examples"
   ]
  },
  {
   "cell_type": "markdown",
   "metadata": {},
   "source": [
    "### 1. Use SELECT Only What You Need\n",
    "\n",
    "Avoid `SELECT *` — only select necessary columns.\n",
    "\n",
    "```sql\n",
    "-- Bad\n",
    "SELECT * FROM orders;\n",
    "\n",
    "-- Good\n",
    "SELECT order_id, order_date FROM orders;\n",
    "```\n",
    "\n",
    "🔍 In other DBMSs, `SELECT *` can even prevent index-only scans (e.g., PostgreSQL). In DBMSs like PostgreSQL, an index-only scan is a powerful optimization. It allows the database to read data directly from the index without having to access the full table (also called the heap). This is much faster, especially on large tables.\n",
    "\n",
    "But for this to work, two things must be true:\n",
    "\n",
    "1.\tAll the required columns must be in the index\n",
    "2.\tThere must be no need to access the actual table rows\n",
    "\n",
    "**SQLite** does not support index-only scans in the same way **PostgreSQL** does. So in SQLite, this specific optimization doesn’t apply — but it’s still a good habit to avoid SELECT * for performance and clarity."
   ]
  },
  {
   "cell_type": "markdown",
   "metadata": {},
   "source": [
    "### 2. Filter Early with WHERE\n",
    "\n",
    "Apply `WHERE` clauses to reduce the number of rows processed.\n",
    "\n",
    "```sql\n",
    "-- Bad\n",
    "SELECT customer_id FROM orders;\n",
    "\n",
    "-- Good\n",
    "SELECT customer_id FROM orders WHERE order_date > '2024-01-01';\n",
    "```\n",
    "\n",
    "In **SQLite**, filtering helps avoid unnecessary disk reads since it uses B-Trees for indexes."
   ]
  },
  {
   "cell_type": "markdown",
   "metadata": {},
   "source": [
    "### 3. Use Indexes Wisely\n",
    "\n",
    "Indexes speed up `WHERE`, `JOIN`, and `ORDER BY`. But avoid over-indexing!\n",
    "\n",
    "```sql\n",
    "-- Create index on order_date for filtering\n",
    "CREATE INDEX idx_orders_order_date ON orders(order_date);\n",
    "```\n",
    "\n",
    "In PostgreSQL, you can use `EXPLAIN` to see if indexes are used. In SQLite, use `EXPLAIN QUERY PLAN`.\n",
    "\n",
    "An **index** is like a sorted list that a database uses to quickly find data in a table — similar to an index in a book.\n",
    "\n",
    "Instead of scanning every row (called a full table scan), the database looks in the index to jump directly to the relevant rows, which is much faster.\n",
    "\n",
    "📌 Key Points about Indexes\n",
    "\n",
    "* Speeds up WHERE, JOIN, and ORDER BY queries.\n",
    "* Uses extra disk space.\n",
    "* Too many indexes = slower inserts/updates (because all indexes need updating).\n",
    "* Best used on columns frequently used in filtering or joining."
   ]
  },
  {
   "cell_type": "markdown",
   "metadata": {},
   "source": [
    "### 4. Avoid Functions on Indexed Columns\n",
    "\n",
    "Using functions on columns disables index use.\n",
    "\n",
    "```sql\n",
    "-- Bad (no index use)\n",
    "SELECT * FROM orders WHERE strftime('%Y', order_date) = '2024';\n",
    "\n",
    "-- Good\n",
    "SELECT * FROM orders WHERE order_date >= '2024-01-01' AND order_date < '2025-01-01';\n",
    "```"
   ]
  },
  {
   "cell_type": "markdown",
   "metadata": {},
   "source": [
    "### 5. Use EXISTS Instead of IN for Subqueries\n",
    "\n",
    "```sql\n",
    "-- Slower for large subqueries\n",
    "SELECT name FROM customers \n",
    "WHERE customer_id IN (SELECT customer_id FROM orders);\n",
    "\n",
    "-- Faster with EXISTS\n",
    "SELECT name FROM customers c\n",
    "WHERE EXISTS (\n",
    "  SELECT 1 FROM orders o WHERE o.customer_id = c.customer_id\n",
    ");\n",
    "```\n",
    "\n",
    "This query retrieves the names of customers who have at least one order.\n",
    "\n",
    "In **SQLite**, both are often converted internally, but `EXISTS` is still preferable with correlated subqueries.\n",
    "\n",
    "The subquery\n",
    "\n",
    "```sql\n",
    "SELECT 1 FROM orders o WHERE o.customer_id = c.customer_id\n",
    "```\n",
    "\n",
    "says: \"Is there at least one order where orders.customer_id = this customer’s ID?\". If yes, the customer is included in the result.\n",
    "\n",
    ":::{.callout-important}\n",
    "SELECT 1 just returns a dummy value — it could be `SELECT *` or `SELECT 'x'`; it doesn’t matter because EXISTS only cares about the existence of at least one matching row.\n",
    ":::\n",
    "\n",
    "This is often faster than:\n",
    "\n",
    "```sql\n",
    "SELECT name FROM customers\n",
    "WHERE customer_id IN (SELECT customer_id FROM orders);\n",
    "```\n",
    "\n",
    "Because `EXISTS` can stop searching early (as soon as it finds a match), while `IN` may need to collect all values first, depending on the DBMS."
   ]
  },
  {
   "cell_type": "markdown",
   "metadata": {},
   "source": [
    "### 6. Use JOINs Instead of Subqueries (when appropriate)\n",
    "\n",
    "```sql\n",
    "-- Subquery\n",
    "SELECT name FROM customers \n",
    "WHERE customer_id IN (\n",
    "  SELECT customer_id FROM orders WHERE total > 100\n",
    ");\n",
    "\n",
    "-- JOIN (may perform better)\n",
    "SELECT DISTINCT c.name \n",
    "FROM customers c\n",
    "    JOIN orders o ON c.customer_id = o.customer_id\n",
    "WHERE o.total > 100;\n",
    "```\n",
    "\n",
    "In **MySQL** and **PostgreSQL**, query planners can optimize JOINs more effectively.\n"
   ]
  },
  {
   "cell_type": "markdown",
   "metadata": {},
   "source": [
    "### 7. Limit Result Set with LIMIT\n",
    "\n",
    "Always add a LIMIT for preview or pagination.\n",
    "\n",
    "```sql\n",
    "SELECT * FROM logs ORDER BY created_at DESC LIMIT 100;\n",
    "```"
   ]
  },
  {
   "cell_type": "markdown",
   "metadata": {},
   "source": [
    "## 🔍 SQLite-Specific Tips\n",
    "\n",
    "### A. Use ANALYZE to collect statistics and help the query planner:\n",
    "\n",
    "```sql\n",
    "ANALYZE;\n",
    "```\n",
    "\n",
    "`ANALYZE` is a command that collects statistics about the contents of tables and indexes. These statistics help SQLite’s query planner make better decisions when optimizing queries.\n",
    "\n",
    "You can also analyze a specific table or index:\n",
    "\n",
    "```sql\n",
    "ANALYZE orders;\n",
    "```\n",
    "\n",
    "📈 What It Does\n",
    "\n",
    "* Stores the data distribution and row counts in a system table called sqlite_stat1.\n",
    "* Helps SQLite decide:\n",
    "  * Which index to use\n",
    "  * Whether to use an index at all\n",
    "  * The best join order\n",
    "\n",
    "📌 When to Use\n",
    "\n",
    "* After creating new indexes\n",
    "* After loading a large amount of data\n",
    "* After major updates or deletes\n",
    "\n",
    "It does not run automatically — you should run it manually when needed."
   ]
  },
  {
   "cell_type": "markdown",
   "metadata": {},
   "source": [
    "### B. Use EXPLAIN QUERY PLAN to understand what SQLite is doing:\n",
    "\n",
    "```sql\n",
    "EXPLAIN QUERY PLAN SELECT * FROM orders WHERE order_date > '2024-01-01';\n",
    "```\n",
    "\n",
    "`EXPLAIN` is a command that shows how SQLite will **execute a SQL statement**, step by step.\n",
    "It’s used to **understand and debug query performance**.\n",
    "\n",
    "🔍 Two Versions\n",
    "\n",
    "#### 1. EXPLAIN\n",
    "\n",
    "Shows low-level virtual machine instructions (for advanced debugging).\n",
    "\n",
    "```sql\n",
    "EXPLAIN SELECT * FROM orders;\n",
    "```\n",
    "\n",
    "* Output: Virtual opcodes (not beginner-friendly)\n",
    "* Use if you’re deep into SQLite internals\n",
    "\n",
    "#### 2. EXPLAIN QUERY PLAN\n",
    "\n",
    "The one you’ll use most. It gives a high-level overview of the query plan.\n",
    "\n",
    "```sql\n",
    "EXPLAIN QUERY PLAN \n",
    "SELECT * FROM orders WHERE order_date > '2024-01-01';\n",
    "```\n",
    "\n",
    "Tells you:\n",
    "\n",
    "* Which index (if any) is used\n",
    "* Whether it does a full table scan\n",
    "* The join order\n",
    "\n",
    "📌 When to Use\n",
    "\n",
    "* To check if indexes are being used\n",
    "* To spot slow queries doing full scans\n",
    "* Before/after ANALYZE to see improvements\n",
    "\n",
    "[Here is](week02-analyze.ipynb) an example of the output you might see."
   ]
  },
  {
   "cell_type": "markdown",
   "metadata": {},
   "source": [
    "## 🆚 Comparisons to Other DBMSs\n",
    "\n",
    "| Optimization Tip        | SQLite                      | PostgreSQL                     | MySQL                          |\n",
    "|-------------------------|-----------------------------|--------------------------------|--------------------------------|\n",
    "| Index Support           | B-tree only                 | B-tree, GiST, GIN, BRIN        | B-tree, Full-text              |\n",
    "| Query Plan Tool         | `EXPLAIN QUERY PLAN`        | `EXPLAIN (ANALYZE, BUFFERS)`   | `EXPLAIN`                      |\n",
    "| Parallel Query Support  | ❌ No                        | ✅ Yes                          | ✅ Limited                     |\n",
    "| Optimizer Complexity    | Simple                      | Advanced (cost-based)          | Moderate                       |"
   ]
  }
 ],
 "metadata": {
  "kernelspec": {
   "display_name": "Python 3 (ipykernel)",
   "language": "python",
   "name": "python3",
   "path": "/Users/ea47/Documents/GitPages/teaching/25sp-cs354A/.venv/share/jupyter/kernels/python3"
  },
  "language_info": {
   "codemirror_mode": {
    "name": "ipython",
    "version": 3
   },
   "file_extension": ".py",
   "mimetype": "text/x-python",
   "name": "python",
   "nbconvert_exporter": "python",
   "pygments_lexer": "ipython3",
   "version": "3.13.2"
  }
 },
 "nbformat": 4,
 "nbformat_minor": 2
}
