{
 "cells": [
  {
   "cell_type": "raw",
   "metadata": {
    "vscode": {
     "languageId": "raw"
    }
   },
   "source": [
    "---\n",
    "title: \"Week 02: SQL – Dates and Times\"\n",
    "author: \"Eric Araujo\"\n",
    "format:\n",
    "  html:\n",
    "    code-fold: false\n",
    "jupyter: python3\n",
    "---"
   ]
  },
  {
   "cell_type": "markdown",
   "metadata": {},
   "source": [
    "In **SQLite**, date and time operations are handled using a set of built-in functions that work with text values in **ISO-8601** format: 'YYYY-MM-DD HH:MM:SS'. These functions can parse, manipulate, and format date/time values.\n",
    "\n",
    "Here’s a breakdown of how **date and time functions** and operators work in SQLite:"
   ]
  },
  {
   "cell_type": "markdown",
   "metadata": {},
   "source": [
    "## 🕒 Common Date & Time Functions\n",
    "\n",
    "### 1. DATE(timestring, modifier1, modifier2, ...)\n",
    "\n",
    "Returns the **date** (no time part)."
   ]
  },
  {
   "cell_type": "markdown",
   "metadata": {},
   "source": [
    "```sql\n",
    "SELECT DATE('now'); -- Current date (UTC)\n",
    "SELECT DATE('now', 'localtime'); -- Current date (local time)\n",
    "SELECT DATE('2025-03-30', '+1 day'); -- Adds 1 day\n",
    "SELECT DATE('2025-03-30', '-1 month'); -- Subtracts 1 month\n",
    "```"
   ]
  },
  {
   "cell_type": "markdown",
   "metadata": {},
   "source": [
    "### 2. TIME(timestring, modifier1, modifier2, ...)\n",
    "\n",
    "Returns the **time** (no date part).\n",
    "\n",
    "```sql\n",
    "SELECT TIME('now'); -- Current time (UTC)\n",
    "SELECT TIME('now', 'localtime'); -- Current time (local)\n",
    "```"
   ]
  },
  {
   "cell_type": "markdown",
   "metadata": {},
   "source": [
    "### 3. DATETIME(timestring, modifier1, modifier2, ...)\n",
    "\n",
    "Returns both **date** and **time**.\n",
    "\n",
    "```sql\n",
    "SELECT DATETIME('now'); -- Current date and time (UTC)\n",
    "SELECT DATETIME('now', '+1 hour'); -- Adds one hour\n",
    "```"
   ]
  },
  {
   "cell_type": "markdown",
   "metadata": {},
   "source": [
    "### 4. JULIANDAY(timestring, modifier1, ...)\n",
    "\n",
    "Returns the **Julian** day number, which is a floating point value representing days since noon in Greenwich on November 24, 4714 B.C.\n",
    "\n",
    "```sql\n",
    "SELECT JULIANDAY('2025-03-30');\n",
    "```"
   ]
  },
  {
   "cell_type": "markdown",
   "metadata": {},
   "source": [
    "### 5. STRFTIME(format, timestring, modifier1, ...)\n",
    "\n",
    "Returns a formatted string using format codes.\n",
    "\n",
    "```sql\n",
    "SELECT STRFTIME('%Y-%m-%d', 'now'); -- \"2025-03-30\"\n",
    "SELECT STRFTIME('%H:%M:%S', 'now'); -- Time part\n",
    "SELECT STRFTIME('%Y', 'now');       -- Year only\n",
    "```\n",
    "\n",
    "🧩 Common format codes:\n",
    "\n",
    "* %Y = year (e.g. 2025)\n",
    "* %m = month (01–12)\n",
    "* %d = day (01–31)\n",
    "* %H = hour (00–23)\n",
    "* %M = minute (00–59)\n",
    "* %S = seconds (00–59)\n",
    "\n",
    "### 🛠️ Useful Modifiers\n",
    "\n",
    "You can use one or more modifiers to shift the date/time:\n",
    "\n",
    "| Modifier               | Effect                              |\n",
    "|------------------------|--------------------------------------|\n",
    "| `'localtime'`          | Converts to local time               |\n",
    "| `'utc'`                | Converts to UTC                      |\n",
    "| `'+NNN days'`          | Adds NNN days                        |\n",
    "| `'-NNN months'`        | Subtracts NNN months                 |\n",
    "| `'start of month'`     | Sets date to the 1st of the month    |\n",
    "| `'weekday N'`          | Moves to next weekday (0=Sun...6=Sat)|\n",
    "| `'start of year'`      | Sets date to January 1st             |\n",
    "\n",
    "```sql\n",
    "SELECT DATE('now', 'start of month', '+1 month', '-1 day');\n",
    "-- Last day of current month\n",
    "```"
   ]
  },
  {
   "cell_type": "markdown",
   "metadata": {},
   "source": [
    "## 🔍 Examples\n",
    "\n",
    "```sql\n",
    "-- Age from birthday\n",
    "SELECT (JULIANDAY('now') - JULIANDAY('1990-05-15')) / 365 AS age;\n",
    "\n",
    "-- Timestamp 7 days from now\n",
    "SELECT DATETIME('now', '+7 days');\n",
    "\n",
    "-- Current time, formatted\n",
    "SELECT STRFTIME('%d-%m-%Y %H:%M', 'now', 'localtime');\n",
    "```\n",
    "\n",
    "## 🔗 Tip: Date/time values in SQLite are stored as TEXT\n",
    "\n",
    "SQLite doesn’t have a dedicated DATE or TIME type. Store your datetime values as ISO strings (YYYY-MM-DD HH:MM:SS) for full compatibility with these functions."
   ]
  },
  {
   "cell_type": "markdown",
   "metadata": {},
   "source": [
    "## 📦 Example Database: appointments\n",
    "\n",
    "🧱 Table: appointments"
   ]
  },
  {
   "cell_type": "code",
   "execution_count": 1,
   "metadata": {},
   "outputs": [],
   "source": [
    "%%capture\n",
    "%load_ext sql\n",
    "%sql sqlite:///dbs/w02/appointments.db\n",
    "%config SqlMagic.style = '_DEPRECATED_DEFAULT'"
   ]
  },
  {
   "cell_type": "code",
   "execution_count": 12,
   "metadata": {},
   "outputs": [
    {
     "name": "stdout",
     "output_type": "stream",
     "text": [
      " * sqlite:///dbs/w02/appointments.db\n",
      "Done.\n",
      "Done.\n",
      "5 rows affected.\n"
     ]
    },
    {
     "data": {
      "text/plain": [
       "[]"
      ]
     },
     "execution_count": 12,
     "metadata": {},
     "output_type": "execute_result"
    }
   ],
   "source": [
    "%%sql\n",
    "\n",
    "DROP TABLE IF EXISTS appointments;\n",
    "\n",
    "CREATE TABLE appointments (\n",
    "    id INTEGER PRIMARY KEY,\n",
    "    title TEXT NOT NULL,\n",
    "    client_name TEXT NOT NULL,\n",
    "    scheduled_at TEXT NOT NULL  -- Stored in 'YYYY-MM-DD HH:MM:SS' format\n",
    ");\n",
    "\n",
    "-- Sample data\n",
    "INSERT INTO appointments (title, client_name, scheduled_at) VALUES\n",
    "('Consultation', 'Alice', '2025-03-30 10:00:00'),\n",
    "('Follow-up', 'Bob', '2025-03-31 14:30:00'),\n",
    "('Strategy Meeting', 'Charlie', '2025-04-01 09:00:00'),\n",
    "('Project Review', 'Diana', '2025-04-01 16:45:00'),\n",
    "('Feedback Session', 'Eve', '2025-04-02 11:15:00');"
   ]
  },
  {
   "cell_type": "markdown",
   "metadata": {},
   "source": [
    "### 🧪 Example Queries Using Date/Time Functions\n",
    "\n",
    "#### ✅ 1. Get all appointments today (UTC)"
   ]
  },
  {
   "cell_type": "code",
   "execution_count": 4,
   "metadata": {},
   "outputs": [
    {
     "name": "stdout",
     "output_type": "stream",
     "text": [
      " * sqlite:///dbs/w02/appointments.db\n",
      "Done.\n"
     ]
    },
    {
     "data": {
      "text/html": [
       "<table>\n",
       "    <thead>\n",
       "        <tr>\n",
       "            <th>id</th>\n",
       "            <th>title</th>\n",
       "            <th>client_name</th>\n",
       "            <th>scheduled_at</th>\n",
       "        </tr>\n",
       "    </thead>\n",
       "    <tbody>\n",
       "        <tr>\n",
       "            <td>2</td>\n",
       "            <td>Follow-up</td>\n",
       "            <td>Bob</td>\n",
       "            <td>2025-03-31 14:30:00</td>\n",
       "        </tr>\n",
       "    </tbody>\n",
       "</table>"
      ],
      "text/plain": [
       "[(2, 'Follow-up', 'Bob', '2025-03-31 14:30:00')]"
      ]
     },
     "execution_count": 4,
     "metadata": {},
     "output_type": "execute_result"
    }
   ],
   "source": [
    "%%sql\n",
    "SELECT * \n",
    "FROM appointments \n",
    "WHERE DATE(scheduled_at) = DATE('now');"
   ]
  },
  {
   "cell_type": "markdown",
   "metadata": {},
   "source": [
    "---\n",
    "\n",
    "✅ 2. Get all appointments in the next 3 days"
   ]
  },
  {
   "cell_type": "code",
   "execution_count": 5,
   "metadata": {},
   "outputs": [
    {
     "name": "stdout",
     "output_type": "stream",
     "text": [
      " * sqlite:///dbs/w02/appointments.db\n",
      "Done.\n"
     ]
    },
    {
     "data": {
      "text/html": [
       "<table>\n",
       "    <thead>\n",
       "        <tr>\n",
       "            <th>id</th>\n",
       "            <th>title</th>\n",
       "            <th>client_name</th>\n",
       "            <th>scheduled_at</th>\n",
       "        </tr>\n",
       "    </thead>\n",
       "    <tbody>\n",
       "        <tr>\n",
       "            <td>2</td>\n",
       "            <td>Follow-up</td>\n",
       "            <td>Bob</td>\n",
       "            <td>2025-03-31 14:30:00</td>\n",
       "        </tr>\n",
       "        <tr>\n",
       "            <td>3</td>\n",
       "            <td>Strategy Meeting</td>\n",
       "            <td>Charlie</td>\n",
       "            <td>2025-04-01 09:00:00</td>\n",
       "        </tr>\n",
       "        <tr>\n",
       "            <td>4</td>\n",
       "            <td>Project Review</td>\n",
       "            <td>Diana</td>\n",
       "            <td>2025-04-01 16:45:00</td>\n",
       "        </tr>\n",
       "        <tr>\n",
       "            <td>5</td>\n",
       "            <td>Feedback Session</td>\n",
       "            <td>Eve</td>\n",
       "            <td>2025-04-02 11:15:00</td>\n",
       "        </tr>\n",
       "    </tbody>\n",
       "</table>"
      ],
      "text/plain": [
       "[(2, 'Follow-up', 'Bob', '2025-03-31 14:30:00'),\n",
       " (3, 'Strategy Meeting', 'Charlie', '2025-04-01 09:00:00'),\n",
       " (4, 'Project Review', 'Diana', '2025-04-01 16:45:00'),\n",
       " (5, 'Feedback Session', 'Eve', '2025-04-02 11:15:00')]"
      ]
     },
     "execution_count": 5,
     "metadata": {},
     "output_type": "execute_result"
    }
   ],
   "source": [
    "%%sql\n",
    "SELECT * \n",
    "FROM appointments \n",
    "WHERE DATE(scheduled_at) BETWEEN DATE('now') AND DATE('now', '+3 days');"
   ]
  },
  {
   "cell_type": "markdown",
   "metadata": {},
   "source": [
    "---\n",
    "\n",
    "✅ 3. Show appointments with day of the week"
   ]
  },
  {
   "cell_type": "code",
   "execution_count": 6,
   "metadata": {},
   "outputs": [
    {
     "name": "stdout",
     "output_type": "stream",
     "text": [
      " * sqlite:///dbs/w02/appointments.db\n",
      "Done.\n"
     ]
    },
    {
     "data": {
      "text/html": [
       "<table>\n",
       "    <thead>\n",
       "        <tr>\n",
       "            <th>id</th>\n",
       "            <th>title</th>\n",
       "            <th>client_name</th>\n",
       "            <th>scheduled_at</th>\n",
       "            <th>weekday_num</th>\n",
       "            <th>weekday</th>\n",
       "        </tr>\n",
       "    </thead>\n",
       "    <tbody>\n",
       "        <tr>\n",
       "            <td>1</td>\n",
       "            <td>Consultation</td>\n",
       "            <td>Alice</td>\n",
       "            <td>2025-03-30 10:00:00</td>\n",
       "            <td>0</td>\n",
       "            <td>Sunday</td>\n",
       "        </tr>\n",
       "        <tr>\n",
       "            <td>2</td>\n",
       "            <td>Follow-up</td>\n",
       "            <td>Bob</td>\n",
       "            <td>2025-03-31 14:30:00</td>\n",
       "            <td>1</td>\n",
       "            <td>Monday</td>\n",
       "        </tr>\n",
       "        <tr>\n",
       "            <td>3</td>\n",
       "            <td>Strategy Meeting</td>\n",
       "            <td>Charlie</td>\n",
       "            <td>2025-04-01 09:00:00</td>\n",
       "            <td>2</td>\n",
       "            <td>Tuesday</td>\n",
       "        </tr>\n",
       "        <tr>\n",
       "            <td>4</td>\n",
       "            <td>Project Review</td>\n",
       "            <td>Diana</td>\n",
       "            <td>2025-04-01 16:45:00</td>\n",
       "            <td>2</td>\n",
       "            <td>Tuesday</td>\n",
       "        </tr>\n",
       "        <tr>\n",
       "            <td>5</td>\n",
       "            <td>Feedback Session</td>\n",
       "            <td>Eve</td>\n",
       "            <td>2025-04-02 11:15:00</td>\n",
       "            <td>3</td>\n",
       "            <td>Wednesday</td>\n",
       "        </tr>\n",
       "    </tbody>\n",
       "</table>"
      ],
      "text/plain": [
       "[(1, 'Consultation', 'Alice', '2025-03-30 10:00:00', '0', 'Sunday'),\n",
       " (2, 'Follow-up', 'Bob', '2025-03-31 14:30:00', '1', 'Monday'),\n",
       " (3, 'Strategy Meeting', 'Charlie', '2025-04-01 09:00:00', '2', 'Tuesday'),\n",
       " (4, 'Project Review', 'Diana', '2025-04-01 16:45:00', '2', 'Tuesday'),\n",
       " (5, 'Feedback Session', 'Eve', '2025-04-02 11:15:00', '3', 'Wednesday')]"
      ]
     },
     "execution_count": 6,
     "metadata": {},
     "output_type": "execute_result"
    }
   ],
   "source": [
    "%%sql\n",
    "SELECT \n",
    "    id,\n",
    "    title,\n",
    "    client_name,\n",
    "    scheduled_at,\n",
    "    STRFTIME('%w', scheduled_at) AS weekday_num,\n",
    "    CASE STRFTIME('%w', scheduled_at)\n",
    "        WHEN '0' THEN 'Sunday'\n",
    "        WHEN '1' THEN 'Monday'\n",
    "        WHEN '2' THEN 'Tuesday'\n",
    "        WHEN '3' THEN 'Wednesday'\n",
    "        WHEN '4' THEN 'Thursday'\n",
    "        WHEN '5' THEN 'Friday'\n",
    "        WHEN '6' THEN 'Saturday'\n",
    "    END AS weekday\n",
    "FROM appointments;"
   ]
  },
  {
   "cell_type": "markdown",
   "metadata": {},
   "source": [
    "---\n",
    "\n",
    "✅ 4. Count how many appointments per day"
   ]
  },
  {
   "cell_type": "code",
   "execution_count": 7,
   "metadata": {},
   "outputs": [
    {
     "name": "stdout",
     "output_type": "stream",
     "text": [
      " * sqlite:///dbs/w02/appointments.db\n",
      "Done.\n"
     ]
    },
    {
     "data": {
      "text/html": [
       "<table>\n",
       "    <thead>\n",
       "        <tr>\n",
       "            <th>date</th>\n",
       "            <th>total_appointments</th>\n",
       "        </tr>\n",
       "    </thead>\n",
       "    <tbody>\n",
       "        <tr>\n",
       "            <td>2025-03-30</td>\n",
       "            <td>1</td>\n",
       "        </tr>\n",
       "        <tr>\n",
       "            <td>2025-03-31</td>\n",
       "            <td>1</td>\n",
       "        </tr>\n",
       "        <tr>\n",
       "            <td>2025-04-01</td>\n",
       "            <td>2</td>\n",
       "        </tr>\n",
       "        <tr>\n",
       "            <td>2025-04-02</td>\n",
       "            <td>1</td>\n",
       "        </tr>\n",
       "    </tbody>\n",
       "</table>"
      ],
      "text/plain": [
       "[('2025-03-30', 1), ('2025-03-31', 1), ('2025-04-01', 2), ('2025-04-02', 1)]"
      ]
     },
     "execution_count": 7,
     "metadata": {},
     "output_type": "execute_result"
    }
   ],
   "source": [
    "%%sql\n",
    "SELECT \n",
    "    DATE(scheduled_at) AS date,\n",
    "    COUNT(*) AS total_appointments\n",
    "FROM appointments\n",
    "GROUP BY DATE(scheduled_at);"
   ]
  },
  {
   "cell_type": "markdown",
   "metadata": {},
   "source": [
    "---\n",
    "\n",
    "✅ 5. Check if any appointment is scheduled on a weekend"
   ]
  },
  {
   "cell_type": "code",
   "execution_count": 8,
   "metadata": {},
   "outputs": [
    {
     "name": "stdout",
     "output_type": "stream",
     "text": [
      " * sqlite:///dbs/w02/appointments.db\n",
      "Done.\n"
     ]
    },
    {
     "data": {
      "text/html": [
       "<table>\n",
       "    <thead>\n",
       "        <tr>\n",
       "            <th>id</th>\n",
       "            <th>title</th>\n",
       "            <th>client_name</th>\n",
       "            <th>scheduled_at</th>\n",
       "        </tr>\n",
       "    </thead>\n",
       "    <tbody>\n",
       "        <tr>\n",
       "            <td>1</td>\n",
       "            <td>Consultation</td>\n",
       "            <td>Alice</td>\n",
       "            <td>2025-03-30 10:00:00</td>\n",
       "        </tr>\n",
       "    </tbody>\n",
       "</table>"
      ],
      "text/plain": [
       "[(1, 'Consultation', 'Alice', '2025-03-30 10:00:00')]"
      ]
     },
     "execution_count": 8,
     "metadata": {},
     "output_type": "execute_result"
    }
   ],
   "source": [
    "%%sql\n",
    "SELECT *\n",
    "FROM appointments\n",
    "WHERE STRFTIME('%w', scheduled_at) IN ('0', '6');  -- Sunday or Saturday"
   ]
  },
  {
   "cell_type": "markdown",
   "metadata": {},
   "source": [
    "---\n",
    "\n",
    "✅ 6. Show how many hours until each appointment (from now)"
   ]
  },
  {
   "cell_type": "code",
   "execution_count": 9,
   "metadata": {},
   "outputs": [
    {
     "name": "stdout",
     "output_type": "stream",
     "text": [
      " * sqlite:///dbs/w02/appointments.db\n",
      "Done.\n"
     ]
    },
    {
     "data": {
      "text/html": [
       "<table>\n",
       "    <thead>\n",
       "        <tr>\n",
       "            <th>id</th>\n",
       "            <th>title</th>\n",
       "            <th>scheduled_at</th>\n",
       "            <th>hours_until</th>\n",
       "        </tr>\n",
       "    </thead>\n",
       "    <tbody>\n",
       "        <tr>\n",
       "            <td>1</td>\n",
       "            <td>Consultation</td>\n",
       "            <td>2025-03-30 10:00:00</td>\n",
       "            <td>-14.31</td>\n",
       "        </tr>\n",
       "        <tr>\n",
       "            <td>2</td>\n",
       "            <td>Follow-up</td>\n",
       "            <td>2025-03-31 14:30:00</td>\n",
       "            <td>14.19</td>\n",
       "        </tr>\n",
       "        <tr>\n",
       "            <td>3</td>\n",
       "            <td>Strategy Meeting</td>\n",
       "            <td>2025-04-01 09:00:00</td>\n",
       "            <td>32.69</td>\n",
       "        </tr>\n",
       "        <tr>\n",
       "            <td>4</td>\n",
       "            <td>Project Review</td>\n",
       "            <td>2025-04-01 16:45:00</td>\n",
       "            <td>40.44</td>\n",
       "        </tr>\n",
       "        <tr>\n",
       "            <td>5</td>\n",
       "            <td>Feedback Session</td>\n",
       "            <td>2025-04-02 11:15:00</td>\n",
       "            <td>58.94</td>\n",
       "        </tr>\n",
       "    </tbody>\n",
       "</table>"
      ],
      "text/plain": [
       "[(1, 'Consultation', '2025-03-30 10:00:00', -14.31),\n",
       " (2, 'Follow-up', '2025-03-31 14:30:00', 14.19),\n",
       " (3, 'Strategy Meeting', '2025-04-01 09:00:00', 32.69),\n",
       " (4, 'Project Review', '2025-04-01 16:45:00', 40.44),\n",
       " (5, 'Feedback Session', '2025-04-02 11:15:00', 58.94)]"
      ]
     },
     "execution_count": 9,
     "metadata": {},
     "output_type": "execute_result"
    }
   ],
   "source": [
    "%%sql\n",
    "SELECT \n",
    "    id,\n",
    "    title,\n",
    "    scheduled_at,\n",
    "    ROUND((JULIANDAY(scheduled_at) - JULIANDAY('now')) * 24, 2) AS hours_until\n",
    "FROM appointments;"
   ]
  },
  {
   "cell_type": "markdown",
   "metadata": {},
   "source": [
    "#### 🌍 Example: Show today’s local appointments"
   ]
  },
  {
   "cell_type": "code",
   "execution_count": 10,
   "metadata": {},
   "outputs": [
    {
     "name": "stdout",
     "output_type": "stream",
     "text": [
      " * sqlite:///dbs/w02/appointments.db\n",
      "Done.\n"
     ]
    },
    {
     "data": {
      "text/html": [
       "<table>\n",
       "    <thead>\n",
       "        <tr>\n",
       "            <th>id</th>\n",
       "            <th>title</th>\n",
       "            <th>client_name</th>\n",
       "            <th>scheduled_at</th>\n",
       "        </tr>\n",
       "    </thead>\n",
       "    <tbody>\n",
       "        <tr>\n",
       "            <td>1</td>\n",
       "            <td>Consultation</td>\n",
       "            <td>Alice</td>\n",
       "            <td>2025-03-30 10:00:00</td>\n",
       "        </tr>\n",
       "    </tbody>\n",
       "</table>"
      ],
      "text/plain": [
       "[(1, 'Consultation', 'Alice', '2025-03-30 10:00:00')]"
      ]
     },
     "execution_count": 10,
     "metadata": {},
     "output_type": "execute_result"
    }
   ],
   "source": [
    "%%sql\n",
    "SELECT *\n",
    "FROM appointments\n",
    "WHERE DATE(scheduled_at) = DATE('now', 'localtime');"
   ]
  },
  {
   "cell_type": "markdown",
   "metadata": {},
   "source": [
    "---\n",
    "\n",
    "Explanation:\n",
    "\n",
    "* DATE('now', 'localtime') gets today’s date in the local time zone.\n",
    "* This query filters all appointments scheduled for today (local time)."
   ]
  }
 ],
 "metadata": {
  "kernelspec": {
   "display_name": ".venv",
   "language": "python",
   "name": "python3"
  },
  "language_info": {
   "codemirror_mode": {
    "name": "ipython",
    "version": 3
   },
   "file_extension": ".py",
   "mimetype": "text/x-python",
   "name": "python",
   "nbconvert_exporter": "python",
   "pygments_lexer": "ipython3",
   "version": "3.13.0"
  }
 },
 "nbformat": 4,
 "nbformat_minor": 2
}
