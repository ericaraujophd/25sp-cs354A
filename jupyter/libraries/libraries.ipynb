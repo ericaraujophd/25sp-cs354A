{
 "cells": [
  {
   "cell_type": "markdown",
   "metadata": {},
   "source": [
    "!uv pip install sql\n",
    "!uv pip install ipython-sql"
   ]
  },
  {
   "cell_type": "code",
   "execution_count": null,
   "metadata": {},
   "outputs": [],
   "source": [
    "%%capture\n",
    "%load_ext sql\n",
    "%sql sqlite:///library.db\n",
    "%config SqlMagic.style = '_DEPRECATED_DEFAULT'"
   ]
  },
  {
   "cell_type": "code",
   "execution_count": null,
   "metadata": {},
   "outputs": [],
   "source": [
    "%%sql\n",
    "-- Listing 9-1: Creating and filling the 2018 Public Libraries Survey table\n",
    "\n",
    "\n",
    "DROP TABLE IF EXISTS pls_fy2018_libraries;\n",
    "\n",
    "CREATE TABLE pls_fy2018_libraries (\n",
    "    stabr text NOT NULL,\n",
    "    fscskey text CONSTRAINT fscskey_2018_pkey PRIMARY KEY,\n",
    "    libid text NOT NULL,\n",
    "    libname text NOT NULL,\n",
    "    address text NOT NULL,\n",
    "    city text NOT NULL,\n",
    "    zip text NOT NULL,\n",
    "    county text NOT NULL,\n",
    "    phone text NOT NULL,\n",
    "    c_relatn text NOT NULL,\n",
    "    c_legbas text NOT NULL,\n",
    "    c_admin text NOT NULL,\n",
    "    c_fscs text NOT NULL,\n",
    "    geocode text NOT NULL,\n",
    "    lsabound text NOT NULL,\n",
    "    startdate text NOT NULL,\n",
    "    enddate text NOT NULL,\n",
    "    popu_lsa integer NOT NULL,\n",
    "    popu_und integer NOT NULL,\n",
    "    centlib integer NOT NULL,\n",
    "    branlib integer NOT NULL,\n",
    "    bkmob integer NOT NULL,\n",
    "    totstaff numeric(8,2) NOT NULL,\n",
    "    bkvol integer NOT NULL,\n",
    "    ebook integer NOT NULL,\n",
    "    audio_ph integer NOT NULL,\n",
    "    audio_dl integer NOT NULL,\n",
    "    video_ph integer NOT NULL,\n",
    "    video_dl integer NOT NULL,\n",
    "    ec_lo_ot integer NOT NULL,\n",
    "    subscrip integer NOT NULL,\n",
    "    hrs_open integer NOT NULL,\n",
    "    visits integer NOT NULL,\n",
    "    reference integer NOT NULL,\n",
    "    regbor integer NOT NULL,\n",
    "    totcir integer NOT NULL,\n",
    "    kidcircl integer NOT NULL,\n",
    "    totpro integer NOT NULL,\n",
    "    gpterms integer NOT NULL,\n",
    "    pitusr integer NOT NULL,\n",
    "    wifisess integer NOT NULL,\n",
    "    obereg text NOT NULL,\n",
    "    statstru text NOT NULL,\n",
    "    statname text NOT NULL,\n",
    "    stataddr text NOT NULL,\n",
    "    longitude numeric(10,7) NOT NULL,\n",
    "    latitude numeric(10,7) NOT NULL\n",
    ");"
   ]
  },
  {
   "cell_type": "markdown",
   "metadata": {},
   "source": [
    "import subprocess\n",
    "\n",
    "db = \"library.db\"\n",
    "csv = \"pls_fy2018_libraries.csv\"\n",
    "table = \"pls_fy2018_libraries\"\n",
    "\n",
    "sqlite_command = f\"\"\"\n",
    ".mode csv\n",
    ".import '{csv}' {table}\n",
    "\"\"\"\n",
    "\n",
    "subprocess.run([\"sqlite3\", db], input=sqlite_command, text=True)"
   ]
  },
  {
   "cell_type": "code",
   "execution_count": null,
   "metadata": {},
   "outputs": [],
   "source": [
    "%%sql\n",
    "mode csv\n",
    "import --skip 1 pls_fy2018_libraries.csv pls_fy2018_libraries"
   ]
  },
  {
   "cell_type": "code",
   "execution_count": null,
   "metadata": {},
   "outputs": [],
   "source": [
    "%%sql\n",
    "SELECT * FROM pls_fy2018_libraries"
   ]
  },
  {
   "cell_type": "code",
   "execution_count": null,
   "metadata": {},
   "outputs": [],
   "source": [
    "%%sh\n",
    "./importCSV.sh pls_fy2018_libraries.csv library.db pls_fy2018_libraries"
   ]
  },
  {
   "cell_type": "code",
   "execution_count": null,
   "metadata": {},
   "outputs": [],
   "source": [
    "%%sql\n",
    "SELECT * FROM pls_fy2018_libraries\n",
    "LIMIT 5;"
   ]
  },
  {
   "cell_type": "code",
   "execution_count": null,
   "metadata": {},
   "outputs": [],
   "source": [
    "%%sql\n",
    "CREATE INDEX libname_2018_idx ON pls_fy2018_libraries (libname);"
   ]
  },
  {
   "cell_type": "code",
   "execution_count": null,
   "metadata": {},
   "outputs": [],
   "source": [
    "%%sql\n",
    "SELECT * FROM pls_fy2018_libraries LIMIT 5;"
   ]
  },
  {
   "cell_type": "code",
   "execution_count": null,
   "metadata": {},
   "outputs": [],
   "source": [
    "%%sql\n",
    "PRAGMA index_list('pls_fy2018_libraries');"
   ]
  },
  {
   "cell_type": "code",
   "execution_count": null,
   "metadata": {},
   "outputs": [],
   "source": [
    "%%sql\n",
    "SELECT sql FROM sqlite_master WHERE type = 'index' AND name = 'libname_2018_idx';"
   ]
  },
  {
   "cell_type": "code",
   "execution_count": null,
   "metadata": {},
   "outputs": [],
   "source": [
    "%%sql\n",
    "SELECT count(*)\n",
    "FROM pls_fy2018_libraries;"
   ]
  },
  {
   "cell_type": "code",
   "execution_count": null,
   "metadata": {},
   "outputs": [],
   "source": [
    "%%sql\n",
    "SELECT count(phone)\n",
    "FROM pls_fy2018_libraries;"
   ]
  },
  {
   "cell_type": "code",
   "execution_count": null,
   "metadata": {},
   "outputs": [],
   "source": [
    "%%sql \n",
    "SELECT libname, count(libname)\n",
    "    FROM pls_fy2018_libraries\n",
    "    GROUP BY libname\n",
    "    ORDER BY count(libname) DESC\n",
    "    LIMIT 20;"
   ]
  },
  {
   "cell_type": "code",
   "execution_count": null,
   "metadata": {},
   "outputs": [],
   "source": [
    "%%sql\n",
    "SELECT max(visits), min(visits)\n",
    "FROM pls_fy2018_libraries\n",
    "WHERE visits > 0;"
   ]
  },
  {
   "cell_type": "code",
   "execution_count": null,
   "metadata": {},
   "outputs": [],
   "source": []
  }
 ],
 "metadata": {
  "kernelspec": {
   "display_name": ".venv",
   "language": "python",
   "name": "python3"
  },
  "language_info": {
   "codemirror_mode": {
    "name": "ipython",
    "version": 3
   },
   "file_extension": ".py",
   "mimetype": "text/x-python",
   "name": "python",
   "nbconvert_exporter": "python",
   "pygments_lexer": "ipython3",
   "version": "3.13.0"
  }
 },
 "nbformat": 4,
 "nbformat_minor": 2
}
