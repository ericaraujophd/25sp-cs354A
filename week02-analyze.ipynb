{
 "cells": [
  {
   "cell_type": "raw",
   "metadata": {
    "vscode": {
     "languageId": "raw"
    }
   },
   "source": [
    "---\n",
    "title: \"Week 02: SQL – ANALYZE\"\n",
    "author: \"Eric Araujo\"\n",
    "date: \"2025-04-01\"\n",
    "format:\n",
    "  html:\n",
    "    code-fold: true\n",
    "    code-tools: true\n",
    "jupyter: python3\n",
    "---"
   ]
  },
  {
   "cell_type": "code",
   "execution_count": 1,
   "metadata": {},
   "outputs": [],
   "source": [
    "%%capture\n",
    "%load_ext sql\n",
    "%sql sqlite:///dbs/w02/analyze-example.db\n",
    "%config SqlMagic.style = '_DEPRECATED_DEFAULT'"
   ]
  },
  {
   "cell_type": "markdown",
   "metadata": {},
   "source": [
    "## 1. Create a Table and Insert Data"
   ]
  },
  {
   "cell_type": "code",
   "execution_count": 2,
   "metadata": {},
   "outputs": [
    {
     "name": "stdout",
     "output_type": "stream",
     "text": [
      " * sqlite:///dbs/w02/analyze-example.db\n",
      "Done.\n",
      "Done.\n",
      "Done.\n"
     ]
    },
    {
     "data": {
      "text/plain": [
       "[]"
      ]
     },
     "execution_count": 2,
     "metadata": {},
     "output_type": "execute_result"
    }
   ],
   "source": [
    "%%sql\n",
    "\n",
    "DROP TABLE IF EXISTS orders;\n",
    "\n",
    "CREATE TABLE orders (\n",
    "  order_id INTEGER PRIMARY KEY,\n",
    "  customer_id INTEGER,\n",
    "  order_date TEXT,\n",
    "  total REAL\n",
    ");\n",
    "\n",
    "-- Insert 10,000 rows\n",
    "WITH RECURSIVE cnt(x) AS (\n",
    "  SELECT 1\n",
    "  UNION ALL\n",
    "  SELECT x + 1 FROM cnt WHERE x < 10000\n",
    ")\n",
    "INSERT INTO orders (customer_id, order_date, total)\n",
    "SELECT \n",
    "  ABS(RANDOM() % 100), \n",
    "  date('2024-01-01', '+' || (RANDOM() % 365) || ' days'), \n",
    "  ROUND(RANDOM() % 500, 2)\n",
    "FROM cnt;"
   ]
  },
  {
   "cell_type": "markdown",
   "metadata": {},
   "source": [
    "This generates 10,000 synthetic rows with:\n",
    "\n",
    "* customer_id between 0 and 99\n",
    "* order_date in the year 2024\n",
    "* total up to 500"
   ]
  },
  {
   "cell_type": "markdown",
   "metadata": {},
   "source": [
    "## 2. Create an Index"
   ]
  },
  {
   "cell_type": "code",
   "execution_count": 3,
   "metadata": {},
   "outputs": [
    {
     "name": "stdout",
     "output_type": "stream",
     "text": [
      " * sqlite:///dbs/w02/analyze-example.db\n",
      "Done.\n"
     ]
    },
    {
     "data": {
      "text/plain": [
       "[]"
      ]
     },
     "execution_count": 3,
     "metadata": {},
     "output_type": "execute_result"
    }
   ],
   "source": [
    "%%sql\n",
    "CREATE INDEX idx_orders_order_date ON orders(order_date);"
   ]
  },
  {
   "cell_type": "markdown",
   "metadata": {},
   "source": [
    "## 3. Run a Query and Check the Plan"
   ]
  },
  {
   "cell_type": "code",
   "execution_count": 4,
   "metadata": {},
   "outputs": [
    {
     "name": "stdout",
     "output_type": "stream",
     "text": [
      " * sqlite:///dbs/w02/analyze-example.db\n",
      "Done.\n"
     ]
    },
    {
     "data": {
      "text/html": [
       "<table>\n",
       "    <thead>\n",
       "        <tr>\n",
       "            <th>id</th>\n",
       "            <th>parent</th>\n",
       "            <th>notused</th>\n",
       "            <th>detail</th>\n",
       "        </tr>\n",
       "    </thead>\n",
       "    <tbody>\n",
       "        <tr>\n",
       "            <td>3</td>\n",
       "            <td>0</td>\n",
       "            <td>205</td>\n",
       "            <td>SEARCH orders USING INDEX idx_orders_order_date (order_date&gt;?)</td>\n",
       "        </tr>\n",
       "    </tbody>\n",
       "</table>"
      ],
      "text/plain": [
       "[(3, 0, 205, 'SEARCH orders USING INDEX idx_orders_order_date (order_date>?)')]"
      ]
     },
     "execution_count": 4,
     "metadata": {},
     "output_type": "execute_result"
    }
   ],
   "source": [
    "%%sql\n",
    "EXPLAIN QUERY PLAN\n",
    "SELECT * FROM orders WHERE order_date > '2024-06-01';"
   ]
  },
  {
   "cell_type": "markdown",
   "metadata": {},
   "source": [
    "Before ANALYZE, SQLite might not use the index if it doesn’t know how selective `order_date` is.\n",
    "\n",
    "In our case, the query is optimized and using the index. Let's see what the output means.\n",
    "\n",
    "| Part                                | Meaning                                                                 |\n",
    "|-------------------------------------|--------------------------------------------------------------------------|\n",
    "| `SEARCH orders`                     | SQLite is accessing the `orders` table using a search operation.        |\n",
    "| `USING INDEX idx_orders_order_date` | It is using the `idx_orders_order_date` index to speed up the lookup.   |\n",
    "| `(order_date>?)`                    | The filter condition is `order_date > ?` (where `?` is the input value). |\n",
    "\n",
    "This shows that SQLite (1) is not scanning the full table and (2) is using the index you created to efficiently jump to rows matching the condition.\n",
    "\n",
    "Had the query said something like:\n",
    "\n",
    "```sql\n",
    "SCAN TABLE orders\n",
    "```\n",
    "\n",
    "...that would mean a **full table scan** — which is slower, especially on large datasets.\n",
    "\n"
   ]
  },
  {
   "cell_type": "markdown",
   "metadata": {},
   "source": [
    "## 4. Run ANALYZE\n",
    "\n",
    "This updates the sqlite_stat1 table with stats about the distribution of values in the table/indexes."
   ]
  },
  {
   "cell_type": "code",
   "execution_count": 5,
   "metadata": {},
   "outputs": [
    {
     "name": "stdout",
     "output_type": "stream",
     "text": [
      " * sqlite:///dbs/w02/analyze-example.db\n",
      "Done.\n"
     ]
    },
    {
     "data": {
      "text/plain": [
       "[]"
      ]
     },
     "execution_count": 5,
     "metadata": {},
     "output_type": "execute_result"
    }
   ],
   "source": [
    "%%sql\n",
    "ANALYZE;"
   ]
  },
  {
   "cell_type": "code",
   "execution_count": 6,
   "metadata": {},
   "outputs": [],
   "source": [
    "## 5. Run the Same Query Again"
   ]
  },
  {
   "cell_type": "code",
   "execution_count": 7,
   "metadata": {},
   "outputs": [
    {
     "name": "stdout",
     "output_type": "stream",
     "text": [
      " * sqlite:///dbs/w02/analyze-example.db\n",
      "Done.\n"
     ]
    },
    {
     "data": {
      "text/html": [
       "<table>\n",
       "    <thead>\n",
       "        <tr>\n",
       "            <th>id</th>\n",
       "            <th>parent</th>\n",
       "            <th>notused</th>\n",
       "            <th>detail</th>\n",
       "        </tr>\n",
       "    </thead>\n",
       "    <tbody>\n",
       "        <tr>\n",
       "            <td>3</td>\n",
       "            <td>0</td>\n",
       "            <td>140</td>\n",
       "            <td>SEARCH orders USING INDEX idx_orders_order_date (order_date&gt;?)</td>\n",
       "        </tr>\n",
       "    </tbody>\n",
       "</table>"
      ],
      "text/plain": [
       "[(3, 0, 140, 'SEARCH orders USING INDEX idx_orders_order_date (order_date>?)')]"
      ]
     },
     "execution_count": 7,
     "metadata": {},
     "output_type": "execute_result"
    }
   ],
   "source": [
    "%%sql\n",
    "EXPLAIN QUERY PLAN\n",
    "SELECT * FROM orders WHERE order_date > '2024-06-01';"
   ]
  },
  {
   "cell_type": "markdown",
   "metadata": {},
   "source": [
    "After `ANALYZE`, you’ll likely see that the index is now being used, especially if the planner sees it as more efficient."
   ]
  }
 ],
 "metadata": {
  "kernelspec": {
   "display_name": ".venv",
   "language": "python",
   "name": "python3"
  },
  "language_info": {
   "codemirror_mode": {
    "name": "ipython",
    "version": 3
   },
   "file_extension": ".py",
   "mimetype": "text/x-python",
   "name": "python",
   "nbconvert_exporter": "python",
   "pygments_lexer": "ipython3",
   "version": "3.13.2"
  }
 },
 "nbformat": 4,
 "nbformat_minor": 2
}
