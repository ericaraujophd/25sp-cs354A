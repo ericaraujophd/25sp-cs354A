{
 "cells": [
  {
   "cell_type": "raw",
   "metadata": {
    "vscode": {
     "languageId": "raw"
    }
   },
   "source": [
    "---\n",
    "title: \"Week 02: SQL – Using CASE\"\n",
    "author: \"Eric Araujo\"\n",
    "format:\n",
    "  html:\n",
    "    code-fold: false\n",
    "jupyter: python3\n",
    "---"
   ]
  },
  {
   "cell_type": "markdown",
   "metadata": {},
   "source": [
    "The CASE statement in SQL is a way to add conditional logic to your queries — it’s like an IF-THEN-ELSE structure in programming languages.\n",
    "\n",
    "## 📌 Basic Syntax of CASE\n",
    "\n",
    "```sql\n",
    "CASE\n",
    "    WHEN condition1 THEN result1\n",
    "    WHEN condition2 THEN result2\n",
    "    ...\n",
    "    ELSE resultN\n",
    "END\n",
    "```\n",
    "\n",
    "You can use it:\n",
    "\n",
    "* In SELECT to create computed columns.\n",
    "* In ORDER BY to sort conditionally.\n",
    "* In WHERE (less common, but possible)."
   ]
  },
  {
   "cell_type": "markdown",
   "metadata": {},
   "source": [
    "## ✅ Example 1: Using CASE in a SELECT\n",
    "\n",
    "```sql\n",
    "SELECT name,\n",
    "       age,\n",
    "       CASE \n",
    "           WHEN age < 18 THEN 'Minor'\n",
    "           WHEN age < 65 THEN 'Adult'\n",
    "           ELSE 'Senior'\n",
    "       END AS age_group\n",
    "FROM people;\n",
    "```\n",
    "\n",
    "This assigns a label (Minor, Adult, or Senior) based on age.\n"
   ]
  },
  {
   "cell_type": "markdown",
   "metadata": {},
   "source": [
    "## ✅ Example 2: Conditional Aggregation\n",
    "\n",
    "```sql\n",
    "SELECT \n",
    "    department,\n",
    "    COUNT(*) AS total_employees,\n",
    "    SUM(CASE WHEN gender = 'F' THEN 1 ELSE 0 END) AS female_employees\n",
    "FROM employees\n",
    "GROUP BY department;\n",
    "```\n",
    "\n",
    "This counts total and female employees per department."
   ]
  },
  {
   "cell_type": "markdown",
   "metadata": {},
   "source": [
    "## ✅ Example 3: CASE in ORDER BY\n",
    "\n",
    "```sql\n",
    "SELECT name, priority\n",
    "FROM tasks\n",
    "ORDER BY \n",
    "    CASE priority\n",
    "        WHEN 'High' THEN 1\n",
    "        WHEN 'Medium' THEN 2\n",
    "        ELSE 3\n",
    "    END;\n",
    "```\n",
    "\n",
    "This sorts tasks by custom priority order.\n"
   ]
  },
  {
   "cell_type": "markdown",
   "metadata": {},
   "source": [
    "## 🔎 Notes\n",
    "\n",
    "* You must include END.\n",
    "* CASE can be nested.\n",
    "* There’s also a simple form:\n",
    "\n",
    "```sql\n",
    "CASE expression\n",
    "    WHEN value1 THEN result1\n",
    "    WHEN value2 THEN result2\n",
    "    ELSE resultN\n",
    "END\n",
    "```\n",
    "\n",
    "It compares a single expression against multiple values."
   ]
  },
  {
   "cell_type": "markdown",
   "metadata": {},
   "source": [
    "## 🧪 Practice: Classify Products by Price\n",
    "\n",
    "### ✅ Table Setup"
   ]
  },
  {
   "cell_type": "code",
   "execution_count": 1,
   "metadata": {},
   "outputs": [],
   "source": [
    "%%capture\n",
    "%load_ext sql\n",
    "%sql sqlite:///dbs/w02/products.db\n",
    "%config SqlMagic.style = '_DEPRECATED_DEFAULT'"
   ]
  },
  {
   "cell_type": "code",
   "execution_count": 2,
   "metadata": {},
   "outputs": [
    {
     "name": "stdout",
     "output_type": "stream",
     "text": [
      " * sqlite:///dbs/w02/products.db\n",
      "(sqlite3.OperationalError) table products already exists\n",
      "[SQL: CREATE TABLE products (\n",
      "    id INTEGER PRIMARY KEY,\n",
      "    name TEXT,\n",
      "    price REAL\n",
      ");]\n",
      "(Background on this error at: https://sqlalche.me/e/20/e3q8)\n"
     ]
    }
   ],
   "source": [
    "%%sql\n",
    "CREATE TABLE products (\n",
    "    id INTEGER PRIMARY KEY,\n",
    "    name TEXT,\n",
    "    price REAL\n",
    ");\n",
    "\n",
    "INSERT INTO products (name, price) VALUES\n",
    "('Pencil', 0.99),\n",
    "('Notebook', 2.49),\n",
    "('Backpack', 29.99),\n",
    "('Laptop', 999.99),\n",
    "('Water Bottle', 12.50);"
   ]
  },
  {
   "cell_type": "code",
   "execution_count": 3,
   "metadata": {},
   "outputs": [
    {
     "name": "stdout",
     "output_type": "stream",
     "text": [
      " * sqlite:///dbs/w02/products.db\n",
      "Done.\n"
     ]
    },
    {
     "data": {
      "text/html": [
       "<table>\n",
       "    <thead>\n",
       "        <tr>\n",
       "            <th>id</th>\n",
       "            <th>name</th>\n",
       "            <th>price</th>\n",
       "        </tr>\n",
       "    </thead>\n",
       "    <tbody>\n",
       "        <tr>\n",
       "            <td>1</td>\n",
       "            <td>Pencil</td>\n",
       "            <td>0.99</td>\n",
       "        </tr>\n",
       "        <tr>\n",
       "            <td>2</td>\n",
       "            <td>Notebook</td>\n",
       "            <td>2.49</td>\n",
       "        </tr>\n",
       "        <tr>\n",
       "            <td>3</td>\n",
       "            <td>Backpack</td>\n",
       "            <td>29.99</td>\n",
       "        </tr>\n",
       "        <tr>\n",
       "            <td>4</td>\n",
       "            <td>Laptop</td>\n",
       "            <td>999.99</td>\n",
       "        </tr>\n",
       "        <tr>\n",
       "            <td>5</td>\n",
       "            <td>Water Bottle</td>\n",
       "            <td>12.5</td>\n",
       "        </tr>\n",
       "    </tbody>\n",
       "</table>"
      ],
      "text/plain": [
       "[(1, 'Pencil', 0.99),\n",
       " (2, 'Notebook', 2.49),\n",
       " (3, 'Backpack', 29.99),\n",
       " (4, 'Laptop', 999.99),\n",
       " (5, 'Water Bottle', 12.5)]"
      ]
     },
     "execution_count": 3,
     "metadata": {},
     "output_type": "execute_result"
    }
   ],
   "source": [
    "%%sql\n",
    "SELECT * FROM products;"
   ]
  },
  {
   "cell_type": "markdown",
   "metadata": {
    "vscode": {
     "languageId": "raw"
    }
   },
   "source": [
    "---\n",
    "\n",
    "### ❓ Question:\n",
    "\n",
    "Write an SQL query to return the name, price, and a new column called price_category that shows:\n",
    "\n",
    "* 'Cheap' if price is less than 5\n",
    "* 'Moderate' if price is between 5 and 100\n",
    "* 'Expensive' if price is greater than 100"
   ]
  },
  {
   "cell_type": "code",
   "execution_count": 4,
   "metadata": {},
   "outputs": [
    {
     "name": "stdout",
     "output_type": "stream",
     "text": [
      " * sqlite:///dbs/w02/products.db\n",
      "Done.\n"
     ]
    },
    {
     "data": {
      "text/html": [
       "<table>\n",
       "    <thead>\n",
       "        <tr>\n",
       "            <th>name</th>\n",
       "            <th>price</th>\n",
       "            <th>price_category</th>\n",
       "        </tr>\n",
       "    </thead>\n",
       "    <tbody>\n",
       "        <tr>\n",
       "            <td>Pencil</td>\n",
       "            <td>0.99</td>\n",
       "            <td>Cheap</td>\n",
       "        </tr>\n",
       "        <tr>\n",
       "            <td>Notebook</td>\n",
       "            <td>2.49</td>\n",
       "            <td>Cheap</td>\n",
       "        </tr>\n",
       "        <tr>\n",
       "            <td>Backpack</td>\n",
       "            <td>29.99</td>\n",
       "            <td>Moderate</td>\n",
       "        </tr>\n",
       "        <tr>\n",
       "            <td>Laptop</td>\n",
       "            <td>999.99</td>\n",
       "            <td>Expensive</td>\n",
       "        </tr>\n",
       "        <tr>\n",
       "            <td>Water Bottle</td>\n",
       "            <td>12.5</td>\n",
       "            <td>Moderate</td>\n",
       "        </tr>\n",
       "    </tbody>\n",
       "</table>"
      ],
      "text/plain": [
       "[('Pencil', 0.99, 'Cheap'),\n",
       " ('Notebook', 2.49, 'Cheap'),\n",
       " ('Backpack', 29.99, 'Moderate'),\n",
       " ('Laptop', 999.99, 'Expensive'),\n",
       " ('Water Bottle', 12.5, 'Moderate')]"
      ]
     },
     "execution_count": 4,
     "metadata": {},
     "output_type": "execute_result"
    }
   ],
   "source": [
    "%%sql\n",
    "SELECT \n",
    "    name,\n",
    "    price,\n",
    "    CASE \n",
    "        WHEN price < 5 THEN 'Cheap'\n",
    "        WHEN price <= 100 THEN 'Moderate'\n",
    "        ELSE 'Expensive'\n",
    "    END AS price_category\n",
    "FROM products;"
   ]
  },
  {
   "cell_type": "code",
   "execution_count": 5,
   "metadata": {},
   "outputs": [],
   "source": []
  }
 ],
 "metadata": {
  "kernelspec": {
   "display_name": ".venv",
   "language": "python",
   "name": "python3"
  },
  "language_info": {
   "codemirror_mode": {
    "name": "ipython",
    "version": 3
   },
   "file_extension": ".py",
   "mimetype": "text/x-python",
   "name": "python",
   "nbconvert_exporter": "python",
   "pygments_lexer": "ipython3",
   "version": "3.13.2"
  }
 },
 "nbformat": 4,
 "nbformat_minor": 2
}
