{
 "cells": [
  {
   "cell_type": "raw",
   "metadata": {
    "vscode": {
     "languageId": "raw"
    }
   },
   "source": [
    "---\n",
    "title: \"Week 02: Union, Union All, Intersect, Except\"\n",
    "subtitle: \"SLO 04\"\n",
    "date: 2023-09-18\n",
    "author: \"Eric Araujo\"\n",
    "format:\n",
    "  html:\n",
    "    code-fold: false\n",
    "jupyter: python3\n",
    "---"
   ]
  },
  {
   "cell_type": "markdown",
   "metadata": {},
   "source": [
    "## 🔁 Set Operators in SQL\n",
    "\n",
    "| Operator     | Description                                                     | Duplicates | Order Requirement           | Supported in SQLite |\n",
    "|--------------|-----------------------------------------------------------------|------------|------------------------------|----------------------|\n",
    "| UNION        | Combines results from two queries, removing duplicates          | No         | Yes (same number and types) | Yes                  |\n",
    "| UNION ALL    | Combines results from two queries, keeping duplicates           | Yes        | Yes                          | Yes                  |\n",
    "| INTERSECT    | Returns rows common to both queries                             | No         | Yes                          | Yes                  |\n",
    "| EXCEPT       | Returns rows from the first query that are not in the second    | No         | Yes                          | Yes                  |"
   ]
  },
  {
   "cell_type": "markdown",
   "metadata": {},
   "source": [
    "### ⁉️ FAQ\n",
    "\n",
    "**Q1: What is the difference between `UNION` and `UNION ALL`?**\n",
    "\n",
    "- `UNION` combines results from two queries and removes duplicates.\n",
    "- `UNION ALL` combines results from two queries and keeps duplicates.\n",
    "\n",
    "**Q2: What does the `INTERSECT` operator do?**\n",
    "\n",
    "- The `INTERSECT` operator returns rows that are common to both queries.\n",
    "\n",
    "**Q3: What does the `EXCEPT` operator do?**\n",
    "\n",
    "- The `EXCEPT` operator returns rows from the first query that are not present in the second query.\n",
    "\n",
    "**Q4: Do all set operators require the same number of columns and data types in the queries?**\n",
    "\n",
    "- Yes, all set operators require the same number of columns and compatible data types in the queries.\n",
    "\n",
    "**Q5: Are set operators supported in SQLite?**\n",
    "\n",
    "- Yes, all set operators are supported in SQLite.\n",
    "\n",
    "**Q6: Do set operators remove duplicates by default?**\n",
    "\n",
    "- Yes, `UNION` and `INTERSECT` remove duplicates by default, while `UNION ALL` keeps duplicates.\n",
    "\n",
    "**Q7: Can you use set operators with different data types?**\n",
    "\n",
    "- No, set operators require compatible data types in the queries.\n",
    "\n",
    "**Q8: Do set operators require the same order of columns in the queries?**\n",
    "\n",
    "- Yes, set operators require the same order of columns in the queries.\n",
    "\n",
    "**Q9: Can you use set operators with subqueries?**\n",
    "\n",
    "- Yes, you can use set operators with subqueries as long as the subqueries return compatible data types and the same number of columns.\n",
    "\n",
    "**Q10: What happens if the queries in a set operator have different numbers of columns?**\n",
    "\n",
    "- If the queries in a set operator have different numbers of columns, an error will occur.\n",
    "\n",
    "**Q11: Can you use set operators with different table names?**\n",
    "\n",
    "- Yes, you can use set operators with different table names as long as the queries return compatible data types and the same number of columns.\n",
    "\n",
    "**Q12: Can you use set operators with different column names?**\n",
    "\n",
    "- Yes, you can use set operators with different column names as long as the queries return compatible data types and the same number of columns.\n",
    "\n",
    "**Q13: Can you use set operators with different data sources?**\n",
    "\n",
    "- Yes, you can use set operators with different data sources as long as the queries return compatible data types and the same number of columns."
   ]
  },
  {
   "cell_type": "markdown",
   "metadata": {},
   "source": [
    "## 👩🏽‍💻 Queries References\n",
    "\n",
    "```sql\n",
    "-- Example of UNION\n",
    "SELECT column1, column2 FROM table1\n",
    "UNION\n",
    "SELECT column1, column2 FROM table2;\n",
    "-- Example of UNION ALL\n",
    "SELECT column1, column2 FROM table1\n",
    "UNION ALL\n",
    "SELECT column1, column2 FROM table2;\n",
    "-- Example of INTERSECT\n",
    "SELECT column1, column2 FROM table1\n",
    "INTERSECT\n",
    "SELECT column1, column2 FROM table2;\n",
    "-- Example of EXCEPT\n",
    "SELECT column1, column2 FROM table1\n",
    "EXCEPT\n",
    "SELECT column1, column2 FROM table2;\n",
    "```"
   ]
  },
  {
   "cell_type": "markdown",
   "metadata": {},
   "source": [
    "## ⚽ Scenario: Premier League vs Champions League\n",
    "\n",
    "We’ll create two tables:\n",
    "\n",
    "* **premier_league_teams**: current Premier League teams.\n",
    "* **champions_league_teams**: clubs currently in the UEFA Champions League.\n",
    "\n",
    "Some Premier League teams also play in the Champions League, but not all Champions League teams are English."
   ]
  },
  {
   "cell_type": "markdown",
   "metadata": {},
   "source": [
    "## 🧱 Table Definitions and Sample Data"
   ]
  },
  {
   "cell_type": "code",
   "execution_count": 1,
   "metadata": {},
   "outputs": [],
   "source": [
    "%%capture\n",
    "%load_ext sql\n",
    "%sql sqlite:///dbs/w02/slo2.4-union.db\n",
    "%config SqlMagic.style = '_DEPRECATED_DEFAULT'"
   ]
  },
  {
   "cell_type": "code",
   "execution_count": 2,
   "metadata": {},
   "outputs": [
    {
     "name": "stdout",
     "output_type": "stream",
     "text": [
      " * sqlite:///dbs/w02/slo2.4-union.db\n",
      "Done.\n",
      "Done.\n",
      "Done.\n",
      "Done.\n"
     ]
    },
    {
     "data": {
      "text/plain": [
       "[]"
      ]
     },
     "execution_count": 2,
     "metadata": {},
     "output_type": "execute_result"
    }
   ],
   "source": [
    "%%sql\n",
    "\n",
    "DROP TABLE IF EXISTS premier_league_teams;\n",
    "DROP TABLE IF EXISTS champions_league_teams;\n",
    "\n",
    "CREATE TABLE premier_league_teams (\n",
    "    team_name TEXT,\n",
    "    jersey_color TEXT,\n",
    "    founded_year INTEGER,\n",
    "    city TEXT\n",
    ");\n",
    "\n",
    "CREATE TABLE champions_league_teams (\n",
    "    team_name TEXT,\n",
    "    jersey_color TEXT,\n",
    "    founded_year INTEGER,\n",
    "    city TEXT\n",
    ");"
   ]
  },
  {
   "cell_type": "markdown",
   "metadata": {},
   "source": [
    "## ⚽ Sample Inserts"
   ]
  },
  {
   "cell_type": "code",
   "execution_count": 3,
   "metadata": {},
   "outputs": [
    {
     "name": "stdout",
     "output_type": "stream",
     "text": [
      " * sqlite:///dbs/w02/slo2.4-union.db\n",
      "6 rows affected.\n",
      "9 rows affected.\n"
     ]
    },
    {
     "data": {
      "text/plain": [
       "[]"
      ]
     },
     "execution_count": 3,
     "metadata": {},
     "output_type": "execute_result"
    }
   ],
   "source": [
    "%%sql\n",
    "INSERT INTO premier_league_teams VALUES\n",
    "('Manchester City', 'Sky Blue', 1880, 'Manchester'),\n",
    "('Arsenal', 'Red and White', 1886, 'London'),\n",
    "('Liverpool', 'Red', 1892, 'Liverpool'),\n",
    "('Chelsea', 'Blue', 1905, 'London'),\n",
    "('Manchester United', 'Red', 1878, 'Manchester'),\n",
    "('Tottenham', 'White and Navy', 1882, 'London');\n",
    "\n",
    "INSERT INTO champions_league_teams VALUES\n",
    "('Real Madrid', 'White', 1902, 'Madrid'),\n",
    "('Barcelona', 'Blue and Red', 1899, 'Barcelona'),\n",
    "('Manchester City', 'Sky Blue', 1880, 'Manchester'),\n",
    "('Bayern Munich', 'Red and White', 1900, 'Munich'),\n",
    "('Paris Saint-Germain', 'Blue and Red', 1970, 'Paris'),\n",
    "('Arsenal', 'Red and White', 1886, 'London'),\n",
    "('Inter Milan', 'Blue and Black', 1908, 'Milan'),\n",
    "('Liverpool', 'Red', 1892, 'Liverpool'),\n",
    "('Liverpool', 'Red', 1892, 'Liverpool'); -- duplicate"
   ]
  },
  {
   "cell_type": "markdown",
   "metadata": {},
   "source": [
    "### 🔍 Updated Query Examples with All Columns\n",
    "\n",
    "**1. UNION: All distinct teams with full details**\n",
    "\n",
    "```sql\n",
    "SELECT * FROM premier_league_teams\n",
    "UNION\n",
    "SELECT * FROM champions_league_teams;\n",
    "```\n"
   ]
  },
  {
   "cell_type": "code",
   "execution_count": 4,
   "metadata": {},
   "outputs": [
    {
     "name": "stdout",
     "output_type": "stream",
     "text": [
      " * sqlite:///dbs/w02/slo2.4-union.db\n",
      "Done.\n"
     ]
    },
    {
     "data": {
      "text/html": [
       "<table>\n",
       "    <thead>\n",
       "        <tr>\n",
       "            <th>team_name</th>\n",
       "            <th>jersey_color</th>\n",
       "            <th>founded_year</th>\n",
       "            <th>city</th>\n",
       "        </tr>\n",
       "    </thead>\n",
       "    <tbody>\n",
       "        <tr>\n",
       "            <td>Arsenal</td>\n",
       "            <td>Red and White</td>\n",
       "            <td>1886</td>\n",
       "            <td>London</td>\n",
       "        </tr>\n",
       "        <tr>\n",
       "            <td>Barcelona</td>\n",
       "            <td>Blue and Red</td>\n",
       "            <td>1899</td>\n",
       "            <td>Barcelona</td>\n",
       "        </tr>\n",
       "        <tr>\n",
       "            <td>Bayern Munich</td>\n",
       "            <td>Red and White</td>\n",
       "            <td>1900</td>\n",
       "            <td>Munich</td>\n",
       "        </tr>\n",
       "        <tr>\n",
       "            <td>Chelsea</td>\n",
       "            <td>Blue</td>\n",
       "            <td>1905</td>\n",
       "            <td>London</td>\n",
       "        </tr>\n",
       "        <tr>\n",
       "            <td>Inter Milan</td>\n",
       "            <td>Blue and Black</td>\n",
       "            <td>1908</td>\n",
       "            <td>Milan</td>\n",
       "        </tr>\n",
       "        <tr>\n",
       "            <td>Liverpool</td>\n",
       "            <td>Red</td>\n",
       "            <td>1892</td>\n",
       "            <td>Liverpool</td>\n",
       "        </tr>\n",
       "        <tr>\n",
       "            <td>Manchester City</td>\n",
       "            <td>Sky Blue</td>\n",
       "            <td>1880</td>\n",
       "            <td>Manchester</td>\n",
       "        </tr>\n",
       "        <tr>\n",
       "            <td>Manchester United</td>\n",
       "            <td>Red</td>\n",
       "            <td>1878</td>\n",
       "            <td>Manchester</td>\n",
       "        </tr>\n",
       "        <tr>\n",
       "            <td>Paris Saint-Germain</td>\n",
       "            <td>Blue and Red</td>\n",
       "            <td>1970</td>\n",
       "            <td>Paris</td>\n",
       "        </tr>\n",
       "        <tr>\n",
       "            <td>Real Madrid</td>\n",
       "            <td>White</td>\n",
       "            <td>1902</td>\n",
       "            <td>Madrid</td>\n",
       "        </tr>\n",
       "        <tr>\n",
       "            <td>Tottenham</td>\n",
       "            <td>White and Navy</td>\n",
       "            <td>1882</td>\n",
       "            <td>London</td>\n",
       "        </tr>\n",
       "    </tbody>\n",
       "</table>"
      ],
      "text/plain": [
       "[('Arsenal', 'Red and White', 1886, 'London'),\n",
       " ('Barcelona', 'Blue and Red', 1899, 'Barcelona'),\n",
       " ('Bayern Munich', 'Red and White', 1900, 'Munich'),\n",
       " ('Chelsea', 'Blue', 1905, 'London'),\n",
       " ('Inter Milan', 'Blue and Black', 1908, 'Milan'),\n",
       " ('Liverpool', 'Red', 1892, 'Liverpool'),\n",
       " ('Manchester City', 'Sky Blue', 1880, 'Manchester'),\n",
       " ('Manchester United', 'Red', 1878, 'Manchester'),\n",
       " ('Paris Saint-Germain', 'Blue and Red', 1970, 'Paris'),\n",
       " ('Real Madrid', 'White', 1902, 'Madrid'),\n",
       " ('Tottenham', 'White and Navy', 1882, 'London')]"
      ]
     },
     "execution_count": 4,
     "metadata": {},
     "output_type": "execute_result"
    }
   ],
   "source": [
    "%%sql\n",
    "SELECT * FROM premier_league_teams\n",
    "UNION\n",
    "SELECT * FROM champions_league_teams;"
   ]
  },
  {
   "cell_type": "markdown",
   "metadata": {},
   "source": [
    "**2. INTERSECT: Full details of teams in both leagues**\n",
    "\n",
    "```sql\n",
    "SELECT * FROM premier_league_teams\n",
    "INTERSECT\n",
    "SELECT * FROM champions_league_teams;\n",
    "```"
   ]
  },
  {
   "cell_type": "code",
   "execution_count": 5,
   "metadata": {},
   "outputs": [
    {
     "name": "stdout",
     "output_type": "stream",
     "text": [
      " * sqlite:///dbs/w02/slo2.4-union.db\n",
      "Done.\n"
     ]
    },
    {
     "data": {
      "text/html": [
       "<table>\n",
       "    <thead>\n",
       "        <tr>\n",
       "            <th>team_name</th>\n",
       "            <th>jersey_color</th>\n",
       "            <th>founded_year</th>\n",
       "            <th>city</th>\n",
       "        </tr>\n",
       "    </thead>\n",
       "    <tbody>\n",
       "        <tr>\n",
       "            <td>Arsenal</td>\n",
       "            <td>Red and White</td>\n",
       "            <td>1886</td>\n",
       "            <td>London</td>\n",
       "        </tr>\n",
       "        <tr>\n",
       "            <td>Liverpool</td>\n",
       "            <td>Red</td>\n",
       "            <td>1892</td>\n",
       "            <td>Liverpool</td>\n",
       "        </tr>\n",
       "        <tr>\n",
       "            <td>Manchester City</td>\n",
       "            <td>Sky Blue</td>\n",
       "            <td>1880</td>\n",
       "            <td>Manchester</td>\n",
       "        </tr>\n",
       "    </tbody>\n",
       "</table>"
      ],
      "text/plain": [
       "[('Arsenal', 'Red and White', 1886, 'London'),\n",
       " ('Liverpool', 'Red', 1892, 'Liverpool'),\n",
       " ('Manchester City', 'Sky Blue', 1880, 'Manchester')]"
      ]
     },
     "execution_count": 5,
     "metadata": {},
     "output_type": "execute_result"
    }
   ],
   "source": [
    "%%sql\n",
    "SELECT * FROM premier_league_teams\n",
    "INTERSECT\n",
    "SELECT * FROM champions_league_teams;"
   ]
  },
  {
   "cell_type": "markdown",
   "metadata": {},
   "source": [
    "**3. EXCEPT: PL teams not in the CL (full detail)**\n",
    "\n",
    "```sql\n",
    "SELECT * FROM premier_league_teams\n",
    "EXCEPT\n",
    "SELECT * FROM champions_league_teams;\n",
    "```"
   ]
  },
  {
   "cell_type": "code",
   "execution_count": 6,
   "metadata": {},
   "outputs": [
    {
     "name": "stdout",
     "output_type": "stream",
     "text": [
      " * sqlite:///dbs/w02/slo2.4-union.db\n",
      "Done.\n"
     ]
    },
    {
     "data": {
      "text/html": [
       "<table>\n",
       "    <thead>\n",
       "        <tr>\n",
       "            <th>team_name</th>\n",
       "            <th>jersey_color</th>\n",
       "            <th>founded_year</th>\n",
       "            <th>city</th>\n",
       "        </tr>\n",
       "    </thead>\n",
       "    <tbody>\n",
       "        <tr>\n",
       "            <td>Chelsea</td>\n",
       "            <td>Blue</td>\n",
       "            <td>1905</td>\n",
       "            <td>London</td>\n",
       "        </tr>\n",
       "        <tr>\n",
       "            <td>Manchester United</td>\n",
       "            <td>Red</td>\n",
       "            <td>1878</td>\n",
       "            <td>Manchester</td>\n",
       "        </tr>\n",
       "        <tr>\n",
       "            <td>Tottenham</td>\n",
       "            <td>White and Navy</td>\n",
       "            <td>1882</td>\n",
       "            <td>London</td>\n",
       "        </tr>\n",
       "    </tbody>\n",
       "</table>"
      ],
      "text/plain": [
       "[('Chelsea', 'Blue', 1905, 'London'),\n",
       " ('Manchester United', 'Red', 1878, 'Manchester'),\n",
       " ('Tottenham', 'White and Navy', 1882, 'London')]"
      ]
     },
     "execution_count": 6,
     "metadata": {},
     "output_type": "execute_result"
    }
   ],
   "source": [
    "%%sql\n",
    "SELECT * FROM premier_league_teams\n",
    "EXCEPT\n",
    "SELECT * FROM champions_league_teams;"
   ]
  },
  {
   "cell_type": "markdown",
   "metadata": {},
   "source": [
    "#### Some things for you to try out:\n",
    "\n",
    "* Query for oldest teams only in PL using EXCEPT and ORDER BY founded_year\n",
    "* Group teams by city and count how many come from each city (with GROUP BY)\n",
    "* Match color styles (e.g., WHERE jersey_color LIKE '%Red%')\n",
    "* Join both tables on team_name to compare differences (e.g., color changes)"
   ]
  },
  {
   "cell_type": "markdown",
   "metadata": {},
   "source": []
  }
 ],
 "metadata": {
  "kernelspec": {
   "display_name": ".venv",
   "language": "python",
   "name": "python3"
  },
  "language_info": {
   "codemirror_mode": {
    "name": "ipython",
    "version": 3
   },
   "file_extension": ".py",
   "mimetype": "text/x-python",
   "name": "python",
   "nbconvert_exporter": "python",
   "pygments_lexer": "ipython3",
   "version": "3.13.0"
  }
 },
 "nbformat": 4,
 "nbformat_minor": 2
}
